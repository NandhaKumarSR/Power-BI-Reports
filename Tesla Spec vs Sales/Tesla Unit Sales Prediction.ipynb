{
  "cells": [
    {
      "cell_type": "code",
      "execution_count": 4,
      "metadata": {
        "colab": {
          "base_uri": "https://localhost:8080/"
        },
        "id": "wKqIJEb2In7v",
        "outputId": "13588639-b569-4dae-d41b-0e856a8833bb"
      },
      "outputs": [
        {
          "name": "stdout",
          "output_type": "stream",
          "text": [
            "         Date  Tesla Model S  Tesla Model X  Tesla Model 3  Tesla Model Y\n",
            "0  2023-12-31    3150.455172    7788.944828  159024.482759  228528.829885\n",
            "1  2024-03-31    2806.865184    7712.670300  164627.810679  238622.907082\n",
            "2  2024-06-30    2463.275195    7636.395773  170231.138598  248716.984279\n",
            "3  2024-09-30    2119.685206    7560.121246  175834.466518  258811.061476\n",
            "4  2024-12-31    1776.095217    7483.846719  181437.794438  268905.138673\n",
            "5  2025-03-31    1432.505228    7407.572191  187041.122358  278999.215870\n",
            "6  2025-06-30    1088.915239    7331.297664  192644.450278  289093.293066\n",
            "7  2025-09-30     745.325250    7255.023137  198247.778198  299187.370263\n",
            "8  2025-12-31     401.735261    7178.748610  203851.106118  309281.447460\n",
            "9  2026-03-31      58.145273    7102.474082  209454.434038  319375.524657\n",
            "10 2026-06-30    -285.444716    7026.199555  215057.761958  329469.601854\n",
            "11 2026-09-30    -629.034705    6949.925028  220661.089878  339563.679051\n",
            "12 2026-12-31    -972.624694    6873.650501  226264.417798  349657.756248\n"
          ]
        },
        {
          "name": "stderr",
          "output_type": "stream",
          "text": [
            "/usr/local/lib/python3.10/dist-packages/sklearn/base.py:493: UserWarning: X does not have valid feature names, but LinearRegression was fitted with feature names\n",
            "  warnings.warn(\n",
            "/usr/local/lib/python3.10/dist-packages/sklearn/base.py:493: UserWarning: X does not have valid feature names, but LinearRegression was fitted with feature names\n",
            "  warnings.warn(\n",
            "/usr/local/lib/python3.10/dist-packages/sklearn/base.py:493: UserWarning: X does not have valid feature names, but LinearRegression was fitted with feature names\n",
            "  warnings.warn(\n",
            "/usr/local/lib/python3.10/dist-packages/sklearn/base.py:493: UserWarning: X does not have valid feature names, but LinearRegression was fitted with feature names\n",
            "  warnings.warn(\n"
          ]
        }
      ],
      "source": [
        "import pandas as pd\n",
        "from sklearn.model_selection import train_test_split\n",
        "from sklearn.linear_model import LinearRegression\n",
        "import numpy as np\n",
        "import pandas as pd\n",
        "from google.colab import files\n",
        "uploaded = files.upload()\n",
        "\n",
        "df = pd.read_excel('TeslaSales.xlsx')\n",
        "\n",
        "# Convert 'Date' to a numerical format for regression\n",
        "df['Year'] = df['Date'].str[-4:].astype(int)\n",
        "df['Quarter'] = df['Date'].str[1].astype(int)\n",
        "df['Date'] = df['Year'] + (df['Quarter'] - 1) / 4\n",
        "\n",
        "# Prepare the data for training\n",
        "X = df[['Date']]\n",
        "y_s = df['Tesla Model S']\n",
        "y_x = df['Tesla Model X']\n",
        "y_3 = df['Tesla Model 3']\n",
        "y_y = df['Tesla Model Y']\n",
        "\n",
        "# Initialize and train the linear regression models\n",
        "model_s = LinearRegression().fit(X, y_s)\n",
        "model_x = LinearRegression().fit(X, y_x)\n",
        "model_3 = LinearRegression().fit(X, y_3)\n",
        "model_y = LinearRegression().fit(X, y_y)\n",
        "\n",
        "# Generate future dates until Q4 2026\n",
        "future_dates = pd.date_range(start='2023-10-01', end='2026-12-31', freq='Q')\n",
        "future_dates_ordinal = future_dates.year + (future_dates.quarter - 1) / 4\n",
        "future_dates_ordinal = future_dates_ordinal.values.reshape(-1, 1)\n",
        "\n",
        "# Predict future sales\n",
        "future_s = model_s.predict(future_dates_ordinal)\n",
        "future_x = model_x.predict(future_dates_ordinal)\n",
        "future_3 = model_3.predict(future_dates_ordinal)\n",
        "future_y = model_y.predict(future_dates_ordinal)\n",
        "\n",
        "# Create a DataFrame with the predicted values\n",
        "predicted_data = {\n",
        "    'Date': future_dates,\n",
        "    'Tesla Model S': future_s,\n",
        "    'Tesla Model X': future_x,\n",
        "    'Tesla Model 3': future_3,\n",
        "    'Tesla Model Y': future_y\n",
        "}\n",
        "\n",
        "predicted_df = pd.DataFrame(predicted_data)\n",
        "\n",
        "print(predicted_df)"
      ]
    },
    {
      "cell_type": "code",
      "execution_count": 5,
      "metadata": {
        "colab": {
          "base_uri": "https://localhost:8080/"
        },
        "id": "JjLBElg0K2Rc",
        "outputId": "8f8a4553-a84e-4920-c629-cb737df99b9e"
      },
      "outputs": [
        {
          "name": "stdout",
          "output_type": "stream",
          "text": [
            "Accuracy for Tesla Model S: 52.41%\n",
            "Accuracy for Tesla Model X: 3.46%\n",
            "Accuracy for Tesla Model 3: 89.23%\n",
            "Accuracy for Tesla Model Y: 73.83%\n"
          ]
        }
      ],
      "source": [
        "from sklearn.metrics import r2_score\n",
        "\n",
        "# Calculate R² score for each model\n",
        "r2_s = r2_score(y_s, model_s.predict(X))\n",
        "r2_x = r2_score(y_x, model_x.predict(X))\n",
        "r2_3 = r2_score(y_3, model_3.predict(X))\n",
        "r2_y = r2_score(y_y, model_y.predict(X))\n",
        "\n",
        "# Convert R² scores to percentages\n",
        "accuracy_s = r2_s * 100\n",
        "accuracy_x = r2_x * 100\n",
        "accuracy_3 = r2_3 * 100\n",
        "accuracy_y = r2_y * 100\n",
        "\n",
        "# Print the accuracy percentages\n",
        "print(f\"Accuracy for Tesla Model S: {accuracy_s:.2f}%\")\n",
        "print(f\"Accuracy for Tesla Model X: {accuracy_x:.2f}%\")\n",
        "print(f\"Accuracy for Tesla Model 3: {accuracy_3:.2f}%\")\n",
        "print(f\"Accuracy for Tesla Model Y: {accuracy_y:.2f}%\")\n"
      ]
    },
    {
      "cell_type": "code",
      "execution_count": null,
      "metadata": {
        "id": "l279pFuLK3aM"
      },
      "outputs": [],
      "source": [
        "#Export Data to Excel\n",
        "!pip install openpyxl\n",
        "predicted_df.to_excel('PredictedSales.xlsx', index=False)\n",
        "\n",
        "predicted_accuracy = {\n",
        "    'Tesla Model S': accuracy_s:.2f,\n",
        "    'Tesla Model X': accuracy_x:.2f,\n",
        "    'Tesla Model 3': accuracy_3:.2f,\n",
        "    'Tesla Model Y': accuracy_y:.2f\n",
        "}\n",
        "\n",
        "predicted_accuracy_df = pd.DataFrame(predicted_accuracy)\n",
        "predicted_accuracy_df.to_excel('PredictedAccuracy.xlsx', index=False)"
      ]
    }
  ],
  "metadata": {
    "colab": {
      "provenance": []
    },
    "kernelspec": {
      "display_name": "Python 3",
      "name": "python3"
    },
    "language_info": {
      "name": "python"
    }
  },
  "nbformat": 4,
  "nbformat_minor": 0
}
